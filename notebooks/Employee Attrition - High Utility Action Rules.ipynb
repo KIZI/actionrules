{
 "cells": [
  {
   "cell_type": "markdown",
   "id": "3336fb6f",
   "metadata": {},
   "source": [
    "# Employee Attrition\n",
    "\n",
    "The aim of this example is to find actions that increase the probability that employees do not leave the company. We are interested in all rules that have a utility over -300 ($minutil = -300$)."
   ]
  },
  {
   "cell_type": "code",
   "execution_count": 34,
   "id": "5c293fd2",
   "metadata": {},
   "outputs": [],
   "source": [
    "import pandas as pd\n",
    "from actionrules.actionRulesDiscovery import ActionRulesDiscovery\n",
    "\n",
    "actionRDiscovery = ActionRulesDiscovery()"
   ]
  },
  {
   "cell_type": "raw",
   "id": "0139dc70",
   "metadata": {},
   "source": [
    "attrition.csv:\n",
    "TID,Department,Salary,Attrition\n",
    "1,Sales,Medium,False\n",
    "2,R&D,Medium,False\n",
    "3,R&D,Medium,True\n",
    "4,R&D,Medium,True\n",
    "5,Sales,Low,False\n",
    "6,R&D,High,False\n",
    "7,R&D,High,False\n",
    "8,R&D,High,True\n",
    "\n",
    "utility.csv:\n",
    "Item,Utility\n",
    "Salary_low,-300\n",
    "Salary_medium,-500\n",
    "Salary_high,-1000\n",
    "Attrition_false,700\n",
    "Attrition_true,0"
   ]
  },
  {
   "cell_type": "code",
   "execution_count": 31,
   "id": "535c08ca",
   "metadata": {},
   "outputs": [],
   "source": [
    "actionRDiscovery.read_csv(\"data/attrition.csv\")\n",
    "utility = pd.read_csv(\"data/utility.csv\", index_col=\"Item\")\n",
    "utility. columns = [1]\n",
    "actionRDiscovery.fit(stable_attributes = [\"Department\"],\n",
    "                     flexible_attributes = [\"Salary\"],\n",
    "                     consequent = \"Attrition\",\n",
    "                     conf=60,\n",
    "                     supp=25,\n",
    "                     desired_classes = [\"False\"],\n",
    "                     utility_source=utility,\n",
    "                     min_profit=-300)"
   ]
  },
  {
   "cell_type": "code",
   "execution_count": 32,
   "id": "57f0a51d",
   "metadata": {},
   "outputs": [
    {
     "data": {
      "text/html": [
       "<div>\n",
       "<style scoped>\n",
       "    .dataframe tbody tr th:only-of-type {\n",
       "        vertical-align: middle;\n",
       "    }\n",
       "\n",
       "    .dataframe tbody tr th {\n",
       "        vertical-align: top;\n",
       "    }\n",
       "\n",
       "    .dataframe thead th {\n",
       "        text-align: right;\n",
       "    }\n",
       "</style>\n",
       "<table border=\"1\" class=\"dataframe\">\n",
       "  <thead>\n",
       "    <tr style=\"text-align: right;\">\n",
       "      <th></th>\n",
       "      <th>1</th>\n",
       "    </tr>\n",
       "    <tr>\n",
       "      <th>Item</th>\n",
       "      <th></th>\n",
       "    </tr>\n",
       "  </thead>\n",
       "  <tbody>\n",
       "    <tr>\n",
       "      <th>Salary_low</th>\n",
       "      <td>-300</td>\n",
       "    </tr>\n",
       "    <tr>\n",
       "      <th>Salary_medium</th>\n",
       "      <td>-500</td>\n",
       "    </tr>\n",
       "    <tr>\n",
       "      <th>Salary_high</th>\n",
       "      <td>-1000</td>\n",
       "    </tr>\n",
       "    <tr>\n",
       "      <th>Attrition_false</th>\n",
       "      <td>700</td>\n",
       "    </tr>\n",
       "    <tr>\n",
       "      <th>Attrition_true</th>\n",
       "      <td>0</td>\n",
       "    </tr>\n",
       "  </tbody>\n",
       "</table>\n",
       "</div>"
      ],
      "text/plain": [
       "                    1\n",
       "Item                 \n",
       "Salary_low       -300\n",
       "Salary_medium    -500\n",
       "Salary_high     -1000\n",
       "Attrition_false   700\n",
       "Attrition_true      0"
      ]
     },
     "execution_count": 32,
     "metadata": {},
     "output_type": "execute_result"
    }
   ],
   "source": [
    "utility"
   ]
  },
  {
   "cell_type": "code",
   "execution_count": 33,
   "id": "5b82b53b",
   "metadata": {},
   "outputs": [
    {
     "data": {
      "text/plain": [
       "[\"If attribute 'Department' is 'r&d', attribute 'Salary' value 'medium' is changed to 'high', then 'Attrition' value 'True' is changed to 'False' with support: 0.25, confidence: 0.4444444444444444 and uplift: 0.125. Profit of the action is -266.66666666666674.\"]"
      ]
     },
     "execution_count": 33,
     "metadata": {},
     "output_type": "execute_result"
    }
   ],
   "source": [
    "actionRDiscovery.get_pretty_action_rules()"
   ]
  },
  {
   "cell_type": "markdown",
   "id": "d2bac2a6",
   "metadata": {},
   "source": [
    "It means that the rule is not profitable because the result is negative. In spite of this, this rule was not thrown out because $u(r) > minutil$."
   ]
  },
  {
   "cell_type": "code",
   "execution_count": null,
   "id": "2cdfd035",
   "metadata": {},
   "outputs": [],
   "source": []
  }
 ],
 "metadata": {
  "kernelspec": {
   "display_name": "Python 3 (ipykernel)",
   "language": "python",
   "name": "python3"
  },
  "language_info": {
   "codemirror_mode": {
    "name": "ipython",
    "version": 3
   },
   "file_extension": ".py",
   "mimetype": "text/x-python",
   "name": "python",
   "nbconvert_exporter": "python",
   "pygments_lexer": "ipython3",
   "version": "3.9.7"
  }
 },
 "nbformat": 4,
 "nbformat_minor": 5
}
