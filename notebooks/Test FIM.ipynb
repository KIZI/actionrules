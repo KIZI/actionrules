{
 "cells": [
  {
   "cell_type": "code",
   "execution_count": 1,
   "metadata": {},
   "outputs": [],
   "source": [
    "%run ../main.py"
   ]
  },
  {
   "cell_type": "code",
   "execution_count": 2,
   "metadata": {},
   "outputs": [
    {
     "name": "stdout",
     "output_type": "stream",
     "text": [
      "C:\\Users\\sykoral\\OneDrive - YRBrands\\Documents\\soukromé dokumenty\\VŠE\\diplomka\\bitbucket\\actionrules\\actionrules\\notebooks\n"
     ]
    }
   ],
   "source": [
    "import sys\n",
    "import os\n",
    "\n",
    "sys.path.append(\"../\")\n",
    "print(os.getcwd())"
   ]
  },
  {
   "cell_type": "markdown",
   "metadata": {},
   "source": [
    "PyFIM"
   ]
  },
  {
   "cell_type": "code",
   "execution_count": 3,
   "metadata": {},
   "outputs": [
    {
     "data": {
      "text/plain": [
       "[((('Age', ('<16.13336;32.10002)',)),\n",
       "   ('Embarked', ('S', 'C')),\n",
       "   ('Survived', ('0.0', '1.0'))),\n",
       "  (0.20823798627002288, 0.041952707856598014, 0.041952707856598014),\n",
       "  (0.6707616707616708, 0.6111111111111112, 0.40990990990991)),\n",
       " ((('Age', ('<16.13336;32.10002)',)),\n",
       "   ('Pclass', ('3.0', '1.0')),\n",
       "   ('Survived', ('0.0', '1.0'))),\n",
       "  (0.16781083142639205, 0.04729214340198322, 0.04729214340198322),\n",
       "  (0.738255033557047, 0.7126436781609196, 0.5261127825349071)),\n",
       " ((('Age', ('<16.13336;32.10002)',)),\n",
       "   ('Fare', ('avg', 'very high')),\n",
       "   ('Survived', ('0.0', '1.0'))),\n",
       "  (0.06483600305110603, 0.04424103737604882, 0.04424103737604882),\n",
       "  (0.648854961832061, 0.6666666666666666, 0.43256997455470736)),\n",
       " ((('Age', ('<16.13336;32.10002)',)),\n",
       "   ('Pclass', ('2.0', '1.0')),\n",
       "   ('Survived', ('0.0', '1.0'))),\n",
       "  (0.06254767353165523, 0.04729214340198322, 0.04729214340198322),\n",
       "  (0.5899280575539568, 0.7126436781609196, 0.42040850078557845)),\n",
       " ((('Age', ('<16.13336;32.10002)',)),\n",
       "   ('Fare', ('avg', 'very high'), 'Pclass', ('2.0', '1.0')),\n",
       "   ('Survived', ('0.0', '1.0'))),\n",
       "  (0.043478260869565216, 0.03966437833714721, 0.03966437833714721),\n",
       "  (0.6404494382022472, 0.7222222222222222, 0.46254681647940077)),\n",
       " ((('Age', ('<16.13336;32.10002)',)),\n",
       "   ('Fare', ('very low', 'very high')),\n",
       "   ('Survived', ('0.0', '1.0'))),\n",
       "  (0.05644546147978642, 0.04424103737604882, 0.04424103737604882),\n",
       "  (0.6915887850467289, 0.6666666666666666, 0.4610591900311526)),\n",
       " ((('Age', ('<16.13336;32.10002)',)),\n",
       "   ('Fare', ('very low', 'very high'), 'Pclass', ('3.0', '1.0')),\n",
       "   ('Survived', ('0.0', '1.0'))),\n",
       "  (0.05644546147978642, 0.03966437833714721, 0.03966437833714721),\n",
       "  (0.6915887850467289, 0.7222222222222222, 0.49948078920041533)),\n",
       " ((('Age', ('<16.13336;32.10002)',)),\n",
       "   ('Fare', ('lower', 'very high')),\n",
       "   ('Survived', ('0.0', '1.0'))),\n",
       "  (0.08237986270022883, 0.04424103737604882, 0.04424103737604882),\n",
       "  (0.8059701492537313, 0.6666666666666666, 0.5373134328358209)),\n",
       " ((('Age', ('<16.13336;32.10002)',)),\n",
       "   ('Fare', ('lower', 'very high'), 'Pclass', ('3.0', '1.0')),\n",
       "   ('Survived', ('0.0', '1.0'))),\n",
       "  (0.08237986270022883, 0.03966437833714721, 0.03966437833714721),\n",
       "  (0.8059701492537313, 0.7222222222222222, 0.582089552238806)),\n",
       " ((('Age', ('<32.10002;48.06668)',)),\n",
       "   ('Pclass', ('3.0', '1.0')),\n",
       "   ('Survived', ('0.0', '1.0'))),\n",
       "  (0.06178489702517163, 0.05110602593440122, 0.05110602593440122),\n",
       "  (0.84375, 0.6261682242990654, 0.5283294392523364)),\n",
       " ((('Age', ('<32.10002;48.06668)',)),\n",
       "   ('Pclass', ('2.0', '1.0')),\n",
       "   ('Survived', ('0.0', '1.0'))),\n",
       "  (0.031273836765827616, 0.05110602593440122, 0.031273836765827616),\n",
       "  (0.6212121212121212, 0.6261682242990654, 0.3889832908524497)),\n",
       " ((('Age', ('<32.10002;48.06668)',)),\n",
       "   ('Fare', ('higher', 'very high')),\n",
       "   ('Survived', ('0.0', '1.0'))),\n",
       "  (0.031273836765827616, 0.04042715484363082, 0.031273836765827616),\n",
       "  (0.6029411764705882, 0.7066666666666667, 0.42607843137254897))]"
      ]
     },
     "execution_count": 3,
     "metadata": {},
     "output_type": "execute_result"
    }
   ],
   "source": [
    "from control import Control\n",
    "\n",
    "control = Control()\n",
    "control.read_csv(\"data/titanic.csv\", sep=\"\\t\" ,lineterminator='\\r')\n",
    "control.fit(stable_antecedents = [\"Age\"], flexible_antecedents = [\"Embarked\", \"Fare\", \"Pclass\"], consequent = \"Survived\", conf=55, supp=3, desired_classes = [\"1.0\"], is_nan=False, is_reduction=True, min_stable_antecedents=1)\n",
    "control.get_action_rules()"
   ]
  },
  {
   "cell_type": "code",
   "execution_count": 4,
   "metadata": {},
   "outputs": [
    {
     "data": {
      "text/plain": [
       "12"
      ]
     },
     "execution_count": 4,
     "metadata": {},
     "output_type": "execute_result"
    }
   ],
   "source": [
    "len(control.get_action_rules())"
   ]
  },
  {
   "cell_type": "code",
   "execution_count": 5,
   "metadata": {},
   "outputs": [
    {
     "name": "stdout",
     "output_type": "stream",
     "text": [
      "Help on method fit in module control.control:\n",
      "\n",
      "fit(stable_antecedents:List[str], flexible_antecedents:List[str], consequent:str, conf:float, supp:float, desired_classes:List[str]=None, desired_changes:List[list]=None, is_nan:bool=False, is_reduction:bool=True, min_stable_antecedents:int=1, min_flexible_antecedents:int=1) method of control.control.Control instance\n",
      "    Get action rules.\n",
      "    Define antecedent and consequent.\n",
      "    - stable_antecedents - List of column names.\n",
      "    - flexible_antecedents - List of column names.\n",
      "    - consequent - Name of column.\n",
      "    Confidence and support.\n",
      "    - conf - value in % for confidence of classification rules.\n",
      "    - supp - value in % for support of classification rules.\n",
      "    Desired classes or desired changes must be entered.\n",
      "    - desired_classes - List of decision states. For example [\"1\"]. DEFAULT: None\n",
      "    - desired_changes - List of desired changes. For example [[\"0\", \"1\"]]. DEFAULT: None\n",
      "    Should nan values be used.\n",
      "    - is_nan - True means nan values are used, False means nan values are not used. DEFAULT: FALSE\n",
      "    Should the reduction table be used.\n",
      "    - is_reduction - is reduction table used DEFAULT: TRUE\n",
      "    Minimal number of stable and flexible couples\n",
      "    - min_stable_antecedents - min. stable couples. DEFAULT: 1\n",
      "    - min_flexible_antecedents - min. flexible couples. DEFAULT: 1\n",
      "\n"
     ]
    }
   ],
   "source": [
    "help(control.fit)"
   ]
  },
  {
   "cell_type": "code",
   "execution_count": null,
   "metadata": {},
   "outputs": [],
   "source": []
  }
 ],
 "metadata": {
  "kernelspec": {
   "display_name": "Python 3",
   "language": "python",
   "name": "python3"
  },
  "language_info": {
   "codemirror_mode": {
    "name": "ipython",
    "version": 3
   },
   "file_extension": ".py",
   "mimetype": "text/x-python",
   "name": "python",
   "nbconvert_exporter": "python",
   "pygments_lexer": "ipython3",
   "version": "3.6.5"
  }
 },
 "nbformat": 4,
 "nbformat_minor": 2
}
