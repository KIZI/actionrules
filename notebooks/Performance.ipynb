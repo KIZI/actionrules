{
 "cells": [
  {
   "cell_type": "markdown",
   "metadata": {},
   "source": [
    "# Performance testing\n",
    "Import actionRulesDiscovery."
   ]
  },
  {
   "cell_type": "code",
   "execution_count": 1,
   "metadata": {},
   "outputs": [],
   "source": [
    "from actionrules.actionRulesDiscovery import ActionRulesDiscovery"
   ]
  },
  {
   "cell_type": "markdown",
   "metadata": {},
   "source": [
    "A function that is used for fitting the model. It has parameters for minimal confidence, minimal support."
   ]
  },
  {
   "cell_type": "code",
   "execution_count": 2,
   "metadata": {},
   "outputs": [],
   "source": [
    "def runDiscovery(conf, supp):\n",
    "    actionRDiscovery = ActionRulesDiscovery()\n",
    "    actionRDiscovery.read_csv(\"telco.csv\", sep=\";\")\n",
    "    actionRDiscovery.fit(stable_antecedents = [\"gender\", \"SeniorCitizen\", \"Partner\"],\n",
    "        flexible_antecedents = [\"PhoneService\",\n",
    "        \"InternetService\",\n",
    "        \"OnlineSecurity\",\n",
    "        \"DeviceProtection\",\n",
    "        \"TechSupport\",\n",
    "        \"StreamingTV\",\n",
    "        ],\n",
    "        consequent = \"Churn\",\n",
    "        conf=conf,\n",
    "        supp=supp,\n",
    "        desired_classes = [\"No\"])\n",
    "    print(\"Rules:\" + str(len(actionRDiscovery.get_action_rules_representation())))\n"
   ]
  },
  {
   "cell_type": "markdown",
   "metadata": {},
   "source": [
    "The discovery runs three times for each combination of parameters. The median duration is chosen. It prints the number of found rules for each step."
   ]
  },
  {
   "cell_type": "code",
   "execution_count": 3,
   "metadata": {},
   "outputs": [
    {
     "name": "stdout",
     "output_type": "stream",
     "text": [
      "Rules:591\n",
      "Rules:591\n",
      "Rules:591\n",
      "Rules:346\n",
      "Rules:346\n",
      "Rules:346\n",
      "Rules:205\n",
      "Rules:205\n",
      "Rules:205\n",
      "Rules:127\n",
      "Rules:127\n",
      "Rules:127\n",
      "Rules:61\n",
      "Rules:61\n",
      "Rules:61\n",
      "Rules:26\n",
      "Rules:26\n",
      "Rules:26\n",
      "Rules:15\n",
      "Rules:15\n",
      "Rules:15\n",
      "Rules:8\n",
      "Rules:8\n",
      "Rules:8\n",
      "Rules:0\n",
      "Rules:0\n",
      "Rules:0\n",
      "Rules:0\n",
      "Rules:0\n",
      "Rules:0\n",
      "Rules:0\n",
      "Rules:0\n",
      "Rules:0\n",
      "Rules:0\n",
      "Rules:0\n",
      "Rules:0\n",
      "Rules:0\n",
      "Rules:0\n",
      "Rules:0\n",
      "Rules:0\n",
      "Rules:0\n",
      "Rules:0\n",
      "Rules:0\n",
      "Rules:0\n",
      "Rules:0\n",
      "Rules:0\n",
      "Rules:0\n",
      "Rules:0\n"
     ]
    }
   ],
   "source": [
    "import time\n",
    "import statistics\n",
    "confs = [50, 60, 70, 80]\n",
    "supps = [1, 2, 3, 4]\n",
    "all_times = {}\n",
    "\n",
    "for conf in confs:\n",
    "    for supp in supps:\n",
    "        times = []\n",
    "        for index in range(3):\n",
    "            start = time.time()\n",
    "            runDiscovery(conf, supp)\n",
    "            end = time.time()\n",
    "            times.append(end - start)\n",
    "        all_times[(conf, supp)] = statistics.median(times)    "
   ]
  },
  {
   "cell_type": "markdown",
   "metadata": {},
   "source": [
    "Print the durations."
   ]
  },
  {
   "cell_type": "code",
   "execution_count": 4,
   "metadata": {},
   "outputs": [
    {
     "name": "stdout",
     "output_type": "stream",
     "text": [
      "{(50, 1): 82.06649231910706, (50, 2): 40.796897649765015, (50, 3): 23.80831551551819, (50, 4): 15.800721406936646, (60, 1): 29.558969020843506, (60, 2): 14.368533611297607, (60, 3): 9.3180673122406, (60, 4): 7.310449838638306, (70, 1): 13.847926616668701, (70, 2): 8.476319789886475, (70, 3): 6.155555725097656, (70, 4): 5.028544902801514, (80, 1): 9.836679935455322, (80, 2): 6.57345986366272, (80, 3): 5.043531894683838, (80, 4): 4.382246971130371}\n"
     ]
    }
   ],
   "source": [
    "print(all_times)"
   ]
  }
 ],
 "metadata": {
  "kernelspec": {
   "display_name": "Python 3",
   "language": "python",
   "name": "python3"
  },
  "language_info": {
   "codemirror_mode": {
    "name": "ipython",
    "version": 3
   },
   "file_extension": ".py",
   "mimetype": "text/x-python",
   "name": "python",
   "nbconvert_exporter": "python",
   "pygments_lexer": "ipython3",
   "version": "3.6.5"
  }
 },
 "nbformat": 4,
 "nbformat_minor": 2
}
