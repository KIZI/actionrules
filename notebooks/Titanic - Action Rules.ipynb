{
 "cells": [
  {
   "cell_type": "markdown",
   "metadata": {},
   "source": [
    "# Titanic - Action Rules Discovery\n",
    "\n",
    "Action rules provide the key to making the right actions that improve the\n",
    "system to more objects have the desired target (reclassify them).\n",
    "\n",
    "Based on the Titanic dataset („Titanic: Machine Learning from Disaster“, 2012),\n",
    "we could get information about what people could do to raise their probability of survival.\n",
    "\n",
    "## Installation of the package\n",
    "\n",
    "The source code is available in https://github.com/lukassykora/actionrules.\n",
    "The package was uploaded to PyPi (Python Package Index). The page of the project is\n",
    "https://test.pypi.org/project/actionrules-lukassykora/.\n",
    "The easiest way for installation is:\n",
    "        \n",
    "**pip install -i https://test.pypi.org/simple/ actionrules-lukassykora**\n",
    "        \n",
    "## How to run it?\n",
    "\n",
    "Firstly the module must be imported."
   ]
  },
  {
   "cell_type": "code",
   "execution_count": 1,
   "metadata": {},
   "outputs": [],
   "source": [
    "from actionrules.actionRulesDiscovery import ActionRulesDiscovery\n",
    "import pandas as pd"
   ]
  },
  {
   "cell_type": "markdown",
   "metadata": {},
   "source": [
    "### Instantiate model object and load data\n",
    "\n",
    "All columns should be nominal data."
   ]
  },
  {
   "cell_type": "code",
   "execution_count": 2,
   "metadata": {},
   "outputs": [
    {
     "data": {
      "text/html": [
       "<div>\n",
       "<style scoped>\n",
       "    .dataframe tbody tr th:only-of-type {\n",
       "        vertical-align: middle;\n",
       "    }\n",
       "\n",
       "    .dataframe tbody tr th {\n",
       "        vertical-align: top;\n",
       "    }\n",
       "\n",
       "    .dataframe thead th {\n",
       "        text-align: right;\n",
       "    }\n",
       "</style>\n",
       "<table border=\"1\" class=\"dataframe\">\n",
       "  <thead>\n",
       "    <tr style=\"text-align: right;\">\n",
       "      <th></th>\n",
       "      <th>ID</th>\n",
       "      <th>Age</th>\n",
       "      <th>Embarked</th>\n",
       "      <th>Fare</th>\n",
       "      <th>Pclass</th>\n",
       "      <th>Sex</th>\n",
       "      <th>Survived</th>\n",
       "    </tr>\n",
       "  </thead>\n",
       "  <tbody>\n",
       "    <tr>\n",
       "      <th>0</th>\n",
       "      <td>1</td>\n",
       "      <td>&lt;16.13336;32.10002)</td>\n",
       "      <td>S</td>\n",
       "      <td>very high</td>\n",
       "      <td>1.0</td>\n",
       "      <td>female</td>\n",
       "      <td>1.0</td>\n",
       "    </tr>\n",
       "    <tr>\n",
       "      <th>1</th>\n",
       "      <td>2</td>\n",
       "      <td>&lt;0.1667;16.13336)</td>\n",
       "      <td>S</td>\n",
       "      <td>very high</td>\n",
       "      <td>1.0</td>\n",
       "      <td>male</td>\n",
       "      <td>1.0</td>\n",
       "    </tr>\n",
       "    <tr>\n",
       "      <th>2</th>\n",
       "      <td>3</td>\n",
       "      <td>&lt;0.1667;16.13336)</td>\n",
       "      <td>S</td>\n",
       "      <td>very high</td>\n",
       "      <td>1.0</td>\n",
       "      <td>female</td>\n",
       "      <td>0.0</td>\n",
       "    </tr>\n",
       "    <tr>\n",
       "      <th>3</th>\n",
       "      <td>4</td>\n",
       "      <td>&lt;16.13336;32.10002)</td>\n",
       "      <td>S</td>\n",
       "      <td>very high</td>\n",
       "      <td>1.0</td>\n",
       "      <td>male</td>\n",
       "      <td>0.0</td>\n",
       "    </tr>\n",
       "    <tr>\n",
       "      <th>4</th>\n",
       "      <td>5</td>\n",
       "      <td>&lt;16.13336;32.10002)</td>\n",
       "      <td>S</td>\n",
       "      <td>very high</td>\n",
       "      <td>1.0</td>\n",
       "      <td>female</td>\n",
       "      <td>0.0</td>\n",
       "    </tr>\n",
       "  </tbody>\n",
       "</table>\n",
       "</div>"
      ],
      "text/plain": [
       "   ID                  Age Embarked       Fare  Pclass     Sex  Survived\n",
       "0   1  <16.13336;32.10002)        S  very high     1.0  female       1.0\n",
       "1   2    <0.1667;16.13336)        S  very high     1.0    male       1.0\n",
       "2   3    <0.1667;16.13336)        S  very high     1.0  female       0.0\n",
       "3   4  <16.13336;32.10002)        S  very high     1.0    male       0.0\n",
       "4   5  <16.13336;32.10002)        S  very high     1.0  female       0.0"
      ]
     },
     "execution_count": 2,
     "metadata": {},
     "output_type": "execute_result"
    }
   ],
   "source": [
    "dataFrame = pd.read_csv(\"data/titanic.csv\", sep=\";\")\n",
    "actionRulesDiscovery = ActionRulesDiscovery()\n",
    "actionRulesDiscovery.load_pandas(dataFrame)\n",
    "dataFrame.head()"
   ]
  },
  {
   "cell_type": "markdown",
   "metadata": {},
   "source": [
    "### Fit  - parameters\n",
    "\n",
    "For mining from source dataset the method **fit** can be used. In this case library PyFIM is\n",
    "used for classification rules discovery. The function has the parameters below:"
   ]
  },
  {
   "cell_type": "code",
   "execution_count": 3,
   "metadata": {},
   "outputs": [
    {
     "name": "stdout",
     "output_type": "stream",
     "text": [
      "Help on method fit in module actionrules.actionRulesDiscovery.actionRulesDiscovery:\n",
      "\n",
      "fit(stable_antecedents:List[str], flexible_antecedents:List[str], consequent:str, conf:float, supp:float, desired_classes:List[str]=None, desired_changes:List[list]=None, is_nan:bool=False, is_reduction:bool=True, min_stable_antecedents:int=1, min_flexible_antecedents:int=1, max_stable_antecedents:int=5, max_flexible_antecedents:int=5) method of actionrules.actionRulesDiscovery.actionRulesDiscovery.ActionRulesDiscovery instance\n",
      "    Get action rules.\n",
      "    Define antecedent and consequent.\n",
      "    - stable_antecedents - List of column names.\n",
      "    - flexible_antecedents - List of column names.\n",
      "    - consequent - Name of the consequent column.\n",
      "    Confidence and support.\n",
      "    - conf - Value in % for minimal confidence in classification rules.\n",
      "             For example, 60.\n",
      "    - supp - Value in % for minimal support of classification rules.\n",
      "             For example, 5.\n",
      "    Desired classes or desired changes must be entered.\n",
      "    - desired_classes - List of decision states. For example, [\"1\"].\n",
      "                        DEFAULT: None\n",
      "    - desired_changes - List of desired changes. For example, [[\"0\", \"1\"]].\n",
      "                        DEFAULT: None\n",
      "    Should NaN values be used?\n",
      "    - is_nan - True means NaN values are used, False means NaN values are not used.\n",
      "               DEFAULT: FALSE\n",
      "    Should the reduction table be used?\n",
      "    - is_reduction - Is the reduction table used? DEFAULT: TRUE\n",
      "    Minimal number of stable and flexible couples\n",
      "    - min_stable_antecedents - Minimal number of stable antecedents. DEFAULT: 1\n",
      "    - min_flexible_antecedents - Minimal number of flexible couples. DEFAULT: 1\n",
      "\n"
     ]
    }
   ],
   "source": [
    "help(actionRulesDiscovery.fit)"
   ]
  },
  {
   "cell_type": "markdown",
   "metadata": {},
   "source": [
    "### Fit model to training data\n",
    "\n",
    "The action rules are discovered from classification rules that have min. confidence 55% and min. support 3%. \n",
    "\n",
    "Stable part of action rule is \"Age\". Stable antecedents do not allow any change of their state (no action can be taken). \n",
    "\n",
    "Flexible attributes are \"Embarked\", \"Fare\", \"Pclass\". Flexible attributes allow changing their state (the action can be taken). The main task of this algorithm is to find these actions.\n",
    "\n",
    "Target is a Survived value 1.0. "
   ]
  },
  {
   "cell_type": "code",
   "execution_count": 4,
   "metadata": {},
   "outputs": [],
   "source": [
    "actionRulesDiscovery.fit(stable_antecedents = [\"Age\", \"Sex\"],\n",
    "            flexible_antecedents = [\"Embarked\", \"Fare\", \"Pclass\"],\n",
    "            consequent = \"Survived\",\n",
    "            conf=55,\n",
    "            supp=3,\n",
    "            desired_classes = [\"1.0\"],\n",
    ")"
   ]
  },
  {
   "cell_type": "markdown",
   "metadata": {},
   "source": [
    "### Number of discovered action rules"
   ]
  },
  {
   "cell_type": "code",
   "execution_count": 5,
   "metadata": {},
   "outputs": [
    {
     "data": {
      "text/plain": [
       "13"
      ]
     },
     "execution_count": 5,
     "metadata": {},
     "output_type": "execute_result"
    }
   ],
   "source": [
    "len(actionRulesDiscovery.get_pretty_action_rules())"
   ]
  },
  {
   "cell_type": "markdown",
   "metadata": {},
   "source": [
    "### Representation of action rules"
   ]
  },
  {
   "cell_type": "code",
   "execution_count": 6,
   "metadata": {},
   "outputs": [
    {
     "name": "stdout",
     "output_type": "stream",
     "text": [
      "r = [(Sex: female) ∧ (Embarked: S → C)  ∧ (Pclass: 3.0 → 1.0) ] ⇒ [Survived: 0.0 → 1.0] with support: 0.05267175572519084 and confidence: 0.5876187356698329\n",
      " \n",
      "r = [(Age: <16.13336;32.10002)) ∧ (Embarked: S → C) ] ⇒ [Survived: 0.0 → 1.0] with support: 0.04198473282442748 and confidence: 0.40990990990991\n",
      " \n",
      "r = [(Age: <16.13336;32.10002)) ∧ (Pclass: 3.0 → 1.0) ] ⇒ [Survived: 0.0 → 1.0] with support: 0.04732824427480916 and confidence: 0.5261127825349071\n",
      " \n",
      "r = [(Age: <16.13336;32.10002)) ∧ (Fare: avg → very high) ] ⇒ [Survived: 0.0 → 1.0] with support: 0.044274809160305344 and confidence: 0.43256997455470736\n",
      " \n",
      "r = [(Age: <16.13336;32.10002)) ∧ (Pclass: 2.0 → 1.0) ] ⇒ [Survived: 0.0 → 1.0] with support: 0.04732824427480916 and confidence: 0.42040850078557845\n",
      " \n",
      "r = [(Age: <16.13336;32.10002)) ∧ (Fare: avg → very high)  ∧ (Pclass: 2.0 → 1.0) ] ⇒ [Survived: 0.0 → 1.0] with support: 0.03969465648854962 and confidence: 0.46254681647940077\n",
      " \n",
      "r = [(Age: <16.13336;32.10002)) ∧ (Fare: very low → very high) ] ⇒ [Survived: 0.0 → 1.0] with support: 0.044274809160305344 and confidence: 0.4610591900311526\n",
      " \n",
      "r = [(Age: <16.13336;32.10002)) ∧ (Fare: very low → very high)  ∧ (Pclass: 3.0 → 1.0) ] ⇒ [Survived: 0.0 → 1.0] with support: 0.03969465648854962 and confidence: 0.49948078920041533\n",
      " \n",
      "r = [(Age: <16.13336;32.10002)) ∧ (Fare: lower → very high) ] ⇒ [Survived: 0.0 → 1.0] with support: 0.044274809160305344 and confidence: 0.5373134328358209\n",
      " \n",
      "r = [(Age: <16.13336;32.10002)) ∧ (Fare: lower → very high)  ∧ (Pclass: 3.0 → 1.0) ] ⇒ [Survived: 0.0 → 1.0] with support: 0.03969465648854962 and confidence: 0.582089552238806\n",
      " \n",
      "r = [(Age: <32.10002;48.06668)) ∧ (Pclass: 3.0 → 1.0) ] ⇒ [Survived: 0.0 → 1.0] with support: 0.05114503816793893 and confidence: 0.5283294392523364\n",
      " \n",
      "r = [(Age: <32.10002;48.06668)) ∧ (Pclass: 2.0 → 1.0) ] ⇒ [Survived: 0.0 → 1.0] with support: 0.031297709923664124 and confidence: 0.3889832908524497\n",
      " \n",
      "r = [(Age: <32.10002;48.06668)) ∧ (Fare: higher → very high) ] ⇒ [Survived: 0.0 → 1.0] with support: 0.031297709923664124 and confidence: 0.42607843137254897\n",
      " \n"
     ]
    }
   ],
   "source": [
    "for rule in actionRulesDiscovery.get_action_rules_representation():\n",
    "    print(rule)\n",
    "    print(\" \")"
   ]
  },
  {
   "cell_type": "markdown",
   "metadata": {},
   "source": [
    "### Text representation of action rules"
   ]
  },
  {
   "cell_type": "code",
   "execution_count": 10,
   "metadata": {},
   "outputs": [
    {
     "name": "stdout",
     "output_type": "stream",
     "text": [
      "If attribute 'Sex' is 'female', attribute 'Embarked' value 'S' is changed to 'C', attribute 'Pclass' value '3.0' is changed to '1.0', then 'Survived' value '0.0' is changed to '1.0' with support: 0.05267175572519084 and confidence: 0.5876187356698329.\n",
      " \n",
      "If attribute 'Age' is '<16.13336;32.10002)', attribute 'Embarked' value 'S' is changed to 'C', then 'Survived' value '0.0' is changed to '1.0' with support: 0.04198473282442748 and confidence: 0.40990990990991.\n",
      " \n",
      "If attribute 'Age' is '<16.13336;32.10002)', attribute 'Pclass' value '3.0' is changed to '1.0', then 'Survived' value '0.0' is changed to '1.0' with support: 0.04732824427480916 and confidence: 0.5261127825349071.\n",
      " \n",
      "If attribute 'Age' is '<16.13336;32.10002)', attribute 'Fare' value 'avg' is changed to 'very high', then 'Survived' value '0.0' is changed to '1.0' with support: 0.044274809160305344 and confidence: 0.43256997455470736.\n",
      " \n",
      "If attribute 'Age' is '<16.13336;32.10002)', attribute 'Pclass' value '2.0' is changed to '1.0', then 'Survived' value '0.0' is changed to '1.0' with support: 0.04732824427480916 and confidence: 0.42040850078557845.\n",
      " \n",
      "If attribute 'Age' is '<16.13336;32.10002)', attribute 'Fare' value 'avg' is changed to 'very high', attribute 'Pclass' value '2.0' is changed to '1.0', then 'Survived' value '0.0' is changed to '1.0' with support: 0.03969465648854962 and confidence: 0.46254681647940077.\n",
      " \n",
      "If attribute 'Age' is '<16.13336;32.10002)', attribute 'Fare' value 'very low' is changed to 'very high', then 'Survived' value '0.0' is changed to '1.0' with support: 0.044274809160305344 and confidence: 0.4610591900311526.\n",
      " \n",
      "If attribute 'Age' is '<16.13336;32.10002)', attribute 'Fare' value 'very low' is changed to 'very high', attribute 'Pclass' value '3.0' is changed to '1.0', then 'Survived' value '0.0' is changed to '1.0' with support: 0.03969465648854962 and confidence: 0.49948078920041533.\n",
      " \n",
      "If attribute 'Age' is '<16.13336;32.10002)', attribute 'Fare' value 'lower' is changed to 'very high', then 'Survived' value '0.0' is changed to '1.0' with support: 0.044274809160305344 and confidence: 0.5373134328358209.\n",
      " \n",
      "If attribute 'Age' is '<16.13336;32.10002)', attribute 'Fare' value 'lower' is changed to 'very high', attribute 'Pclass' value '3.0' is changed to '1.0', then 'Survived' value '0.0' is changed to '1.0' with support: 0.03969465648854962 and confidence: 0.582089552238806.\n",
      " \n",
      "If attribute 'Age' is '<32.10002;48.06668)', attribute 'Pclass' value '3.0' is changed to '1.0', then 'Survived' value '0.0' is changed to '1.0' with support: 0.05114503816793893 and confidence: 0.5283294392523364.\n",
      " \n",
      "If attribute 'Age' is '<32.10002;48.06668)', attribute 'Pclass' value '2.0' is changed to '1.0', then 'Survived' value '0.0' is changed to '1.0' with support: 0.031297709923664124 and confidence: 0.3889832908524497.\n",
      " \n",
      "If attribute 'Age' is '<32.10002;48.06668)', attribute 'Fare' value 'higher' is changed to 'very high', then 'Survived' value '0.0' is changed to '1.0' with support: 0.031297709923664124 and confidence: 0.42607843137254897.\n",
      " \n"
     ]
    }
   ],
   "source": [
    "for pretty_rule in actionRulesDiscovery.get_pretty_action_rules():\n",
    "    print(pretty_rule)\n",
    "    print(\" \")"
   ]
  },
  {
   "cell_type": "markdown",
   "metadata": {},
   "source": [
    "### Human language\n",
    "\n",
    "To say the first rule in even more human language: \n",
    "\n",
    "**Women** who traveled from **Southampton** in the **third class** would increase their chance for survival if they would change their boarding place to **Cherbourg** and paid extra money for **first class**."
   ]
  },
  {
   "cell_type": "markdown",
   "metadata": {},
   "source": [
    "### Machine representation"
   ]
  },
  {
   "cell_type": "code",
   "execution_count": 8,
   "metadata": {
    "scrolled": true
   },
   "outputs": [
    {
     "data": {
      "text/plain": [
       "[[[[['Sex', ('female',)]],\n",
       "   [['Embarked', ('S', 'C')], ['Pclass', ('3.0', '1.0')]],\n",
       "   ['Survived', ['0.0', '1.0']]],\n",
       "  [0.059541984732824425, 0.05267175572519084, 0.05267175572519084],\n",
       "  [0.6046511627906976, 0.971830985915493, 0.5876187356698329]],\n",
       " [[[['Age', ('<16.13336;32.10002)',)]],\n",
       "   [['Embarked', ('S', 'C')]],\n",
       "   ['Survived', ['0.0', '1.0']]],\n",
       "  [0.2083969465648855, 0.04198473282442748, 0.04198473282442748],\n",
       "  [0.6707616707616708, 0.6111111111111112, 0.40990990990991]],\n",
       " [[[['Age', ('<16.13336;32.10002)',)]],\n",
       "   [['Pclass', ('3.0', '1.0')]],\n",
       "   ['Survived', ['0.0', '1.0']]],\n",
       "  [0.16793893129770993, 0.04732824427480916, 0.04732824427480916],\n",
       "  [0.738255033557047, 0.7126436781609196, 0.5261127825349071]],\n",
       " [[[['Age', ('<16.13336;32.10002)',)]],\n",
       "   [['Fare', ('avg', 'very high')]],\n",
       "   ['Survived', ['0.0', '1.0']]],\n",
       "  [0.0648854961832061, 0.044274809160305344, 0.044274809160305344],\n",
       "  [0.648854961832061, 0.6666666666666666, 0.43256997455470736]],\n",
       " [[[['Age', ('<16.13336;32.10002)',)]],\n",
       "   [['Pclass', ('2.0', '1.0')]],\n",
       "   ['Survived', ['0.0', '1.0']]],\n",
       "  [0.06259541984732825, 0.04732824427480916, 0.04732824427480916],\n",
       "  [0.5899280575539568, 0.7126436781609196, 0.42040850078557845]],\n",
       " [[[['Age', ('<16.13336;32.10002)',)]],\n",
       "   [['Fare', ('avg', 'very high')], ['Pclass', ('2.0', '1.0')]],\n",
       "   ['Survived', ['0.0', '1.0']]],\n",
       "  [0.04351145038167939, 0.03969465648854962, 0.03969465648854962],\n",
       "  [0.6404494382022472, 0.7222222222222222, 0.46254681647940077]],\n",
       " [[[['Age', ('<16.13336;32.10002)',)]],\n",
       "   [['Fare', ('very low', 'very high')]],\n",
       "   ['Survived', ['0.0', '1.0']]],\n",
       "  [0.05648854961832061, 0.044274809160305344, 0.044274809160305344],\n",
       "  [0.6915887850467289, 0.6666666666666666, 0.4610591900311526]],\n",
       " [[[['Age', ('<16.13336;32.10002)',)]],\n",
       "   [['Fare', ('very low', 'very high')], ['Pclass', ('3.0', '1.0')]],\n",
       "   ['Survived', ['0.0', '1.0']]],\n",
       "  [0.05648854961832061, 0.03969465648854962, 0.03969465648854962],\n",
       "  [0.6915887850467289, 0.7222222222222222, 0.49948078920041533]],\n",
       " [[[['Age', ('<16.13336;32.10002)',)]],\n",
       "   [['Fare', ('lower', 'very high')]],\n",
       "   ['Survived', ['0.0', '1.0']]],\n",
       "  [0.08244274809160305, 0.044274809160305344, 0.044274809160305344],\n",
       "  [0.8059701492537313, 0.6666666666666666, 0.5373134328358209]],\n",
       " [[[['Age', ('<16.13336;32.10002)',)]],\n",
       "   [['Fare', ('lower', 'very high')], ['Pclass', ('3.0', '1.0')]],\n",
       "   ['Survived', ['0.0', '1.0']]],\n",
       "  [0.08244274809160305, 0.03969465648854962, 0.03969465648854962],\n",
       "  [0.8059701492537313, 0.7222222222222222, 0.582089552238806]],\n",
       " [[[['Age', ('<32.10002;48.06668)',)]],\n",
       "   [['Pclass', ('3.0', '1.0')]],\n",
       "   ['Survived', ['0.0', '1.0']]],\n",
       "  [0.06183206106870229, 0.05114503816793893, 0.05114503816793893],\n",
       "  [0.84375, 0.6261682242990654, 0.5283294392523364]],\n",
       " [[[['Age', ('<32.10002;48.06668)',)]],\n",
       "   [['Pclass', ('2.0', '1.0')]],\n",
       "   ['Survived', ['0.0', '1.0']]],\n",
       "  [0.031297709923664124, 0.05114503816793893, 0.031297709923664124],\n",
       "  [0.6212121212121212, 0.6261682242990654, 0.3889832908524497]],\n",
       " [[[['Age', ('<32.10002;48.06668)',)]],\n",
       "   [['Fare', ('higher', 'very high')]],\n",
       "   ['Survived', ['0.0', '1.0']]],\n",
       "  [0.031297709923664124, 0.04045801526717557, 0.031297709923664124],\n",
       "  [0.6029411764705882, 0.7066666666666667, 0.42607843137254897]]]"
      ]
     },
     "execution_count": 8,
     "metadata": {},
     "output_type": "execute_result"
    }
   ],
   "source": [
    "actionRulesDiscovery.get_action_rules()"
   ]
  },
  {
   "cell_type": "code",
   "execution_count": null,
   "metadata": {},
   "outputs": [],
   "source": []
  }
 ],
 "metadata": {
  "kernelspec": {
   "display_name": "Python 3",
   "language": "python",
   "name": "python3"
  },
  "language_info": {
   "codemirror_mode": {
    "name": "ipython",
    "version": 3
   },
   "file_extension": ".py",
   "mimetype": "text/x-python",
   "name": "python",
   "nbconvert_exporter": "python",
   "pygments_lexer": "ipython3",
   "version": "3.6.5"
  }
 },
 "nbformat": 4,
 "nbformat_minor": 2
}
