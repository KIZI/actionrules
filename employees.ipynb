{
 "cells": [
  {
   "cell_type": "code",
   "execution_count": 8,
   "id": "929fcbfa",
   "metadata": {},
   "outputs": [],
   "source": [
    "import pandas as pd\n",
    "import numpy as np\n",
    "from actionrules.actionRulesDiscovery import ActionRulesDiscovery"
   ]
  },
  {
   "cell_type": "code",
   "execution_count": 9,
   "id": "504e69dc",
   "metadata": {},
   "outputs": [
    {
     "data": {
      "text/html": [
       "<div>\n",
       "<style scoped>\n",
       "    .dataframe tbody tr th:only-of-type {\n",
       "        vertical-align: middle;\n",
       "    }\n",
       "\n",
       "    .dataframe tbody tr th {\n",
       "        vertical-align: top;\n",
       "    }\n",
       "\n",
       "    .dataframe thead th {\n",
       "        text-align: right;\n",
       "    }\n",
       "</style>\n",
       "<table border=\"1\" class=\"dataframe\">\n",
       "  <thead>\n",
       "    <tr style=\"text-align: right;\">\n",
       "      <th></th>\n",
       "      <th>Gender</th>\n",
       "      <th>Satisfaction</th>\n",
       "      <th>Business Travel</th>\n",
       "      <th>Department</th>\n",
       "      <th>EducationField</th>\n",
       "      <th>Salary</th>\n",
       "      <th>Home-Office</th>\n",
       "      <th>Attrition</th>\n",
       "    </tr>\n",
       "  </thead>\n",
       "  <tbody>\n",
       "    <tr>\n",
       "      <th>0</th>\n",
       "      <td>Female</td>\n",
       "      <td>High</td>\n",
       "      <td>Rare</td>\n",
       "      <td>Sales</td>\n",
       "      <td>Engineering</td>\n",
       "      <td>Medium</td>\n",
       "      <td>Near</td>\n",
       "      <td>Yes</td>\n",
       "    </tr>\n",
       "    <tr>\n",
       "      <th>1</th>\n",
       "      <td>Male</td>\n",
       "      <td>Low</td>\n",
       "      <td>Frequent</td>\n",
       "      <td>Sales</td>\n",
       "      <td>Engineering</td>\n",
       "      <td>Low</td>\n",
       "      <td>Near</td>\n",
       "      <td>Yes</td>\n",
       "    </tr>\n",
       "    <tr>\n",
       "      <th>2</th>\n",
       "      <td>Male</td>\n",
       "      <td>Medium</td>\n",
       "      <td>Rare</td>\n",
       "      <td>R&amp;D</td>\n",
       "      <td>Other</td>\n",
       "      <td>Medium</td>\n",
       "      <td>Far</td>\n",
       "      <td>No</td>\n",
       "    </tr>\n",
       "    <tr>\n",
       "      <th>3</th>\n",
       "      <td>Female</td>\n",
       "      <td>Low</td>\n",
       "      <td>Frequent</td>\n",
       "      <td>R&amp;D</td>\n",
       "      <td>Engineering</td>\n",
       "      <td>Medium</td>\n",
       "      <td>Far</td>\n",
       "      <td>Yes</td>\n",
       "    </tr>\n",
       "    <tr>\n",
       "      <th>4</th>\n",
       "      <td>Male</td>\n",
       "      <td>Medium</td>\n",
       "      <td>Rare</td>\n",
       "      <td>R&amp;D</td>\n",
       "      <td>Medical</td>\n",
       "      <td>Medium</td>\n",
       "      <td>Far</td>\n",
       "      <td>No</td>\n",
       "    </tr>\n",
       "  </tbody>\n",
       "</table>\n",
       "</div>"
      ],
      "text/plain": [
       "   Gender Satisfaction Business Travel Department EducationField  Salary  \\\n",
       "0  Female         High            Rare      Sales    Engineering  Medium   \n",
       "1    Male          Low        Frequent      Sales    Engineering     Low   \n",
       "2    Male       Medium            Rare        R&D          Other  Medium   \n",
       "3  Female          Low        Frequent        R&D    Engineering  Medium   \n",
       "4    Male       Medium            Rare        R&D        Medical  Medium   \n",
       "\n",
       "  Home-Office Attrition  \n",
       "0        Near       Yes  \n",
       "1        Near       Yes  \n",
       "2         Far        No  \n",
       "3         Far       Yes  \n",
       "4         Far        No  "
      ]
     },
     "execution_count": 9,
     "metadata": {},
     "output_type": "execute_result"
    }
   ],
   "source": [
    "df=pd.read_csv(\"attrition.csv\", sep=\",\")\n",
    "df.head()"
   ]
  },
  {
   "cell_type": "code",
   "execution_count": 10,
   "id": "fb41360e",
   "metadata": {},
   "outputs": [],
   "source": [
    "df.rename(columns={'Business Travel' : 'BusinessTravel'}, inplace=True)"
   ]
  },
  {
   "cell_type": "code",
   "execution_count": 11,
   "id": "c70dc903",
   "metadata": {},
   "outputs": [],
   "source": [
    "utility_source=pd.read_csv(\"attrition_utility.csv\", sep=\",\",header=None, index_col=0)"
   ]
  },
  {
   "cell_type": "code",
   "execution_count": 16,
   "id": "ac515cd1",
   "metadata": {},
   "outputs": [
    {
     "data": {
      "text/html": [
       "<div>\n",
       "<style scoped>\n",
       "    .dataframe tbody tr th:only-of-type {\n",
       "        vertical-align: middle;\n",
       "    }\n",
       "\n",
       "    .dataframe tbody tr th {\n",
       "        vertical-align: top;\n",
       "    }\n",
       "\n",
       "    .dataframe thead th {\n",
       "        text-align: right;\n",
       "    }\n",
       "</style>\n",
       "<table border=\"1\" class=\"dataframe\">\n",
       "  <thead>\n",
       "    <tr style=\"text-align: right;\">\n",
       "      <th></th>\n",
       "      <th>1</th>\n",
       "    </tr>\n",
       "    <tr>\n",
       "      <th>0</th>\n",
       "      <th></th>\n",
       "    </tr>\n",
       "  </thead>\n",
       "  <tbody>\n",
       "    <tr>\n",
       "      <th>BusinessTravel_no</th>\n",
       "      <td>90</td>\n",
       "    </tr>\n",
       "    <tr>\n",
       "      <th>BusinessTravel_rare</th>\n",
       "      <td>500</td>\n",
       "    </tr>\n",
       "    <tr>\n",
       "      <th>BusinessTravel_frequent</th>\n",
       "      <td>200</td>\n",
       "    </tr>\n",
       "    <tr>\n",
       "      <th>Department_sales</th>\n",
       "      <td>10000</td>\n",
       "    </tr>\n",
       "    <tr>\n",
       "      <th>Department_r&amp;d</th>\n",
       "      <td>5000</td>\n",
       "    </tr>\n",
       "    <tr>\n",
       "      <th>EducationField_engineering</th>\n",
       "      <td>500</td>\n",
       "    </tr>\n",
       "    <tr>\n",
       "      <th>EducationField_other</th>\n",
       "      <td>500</td>\n",
       "    </tr>\n",
       "    <tr>\n",
       "      <th>EducationField_medical</th>\n",
       "      <td>500</td>\n",
       "    </tr>\n",
       "    <tr>\n",
       "      <th>Salary_low</th>\n",
       "      <td>500</td>\n",
       "    </tr>\n",
       "    <tr>\n",
       "      <th>Salary_medium</th>\n",
       "      <td>200</td>\n",
       "    </tr>\n",
       "    <tr>\n",
       "      <th>Salary_high</th>\n",
       "      <td>100</td>\n",
       "    </tr>\n",
       "    <tr>\n",
       "      <th>Attrition_yes</th>\n",
       "      <td>0</td>\n",
       "    </tr>\n",
       "    <tr>\n",
       "      <th>Attrition_no</th>\n",
       "      <td>550</td>\n",
       "    </tr>\n",
       "  </tbody>\n",
       "</table>\n",
       "</div>"
      ],
      "text/plain": [
       "                                1\n",
       "0                                \n",
       "BusinessTravel_no              90\n",
       "BusinessTravel_rare           500\n",
       "BusinessTravel_frequent       200\n",
       "Department_sales            10000\n",
       "Department_r&d               5000\n",
       "EducationField_engineering    500\n",
       "EducationField_other          500\n",
       "EducationField_medical        500\n",
       "Salary_low                    500\n",
       "Salary_medium                 200\n",
       "Salary_high                   100\n",
       "Attrition_yes                   0\n",
       "Attrition_no                  550"
      ]
     },
     "execution_count": 16,
     "metadata": {},
     "output_type": "execute_result"
    }
   ],
   "source": [
    "utility_source"
   ]
  },
  {
   "cell_type": "code",
   "execution_count": 19,
   "id": "b3ccbbef",
   "metadata": {},
   "outputs": [],
   "source": [
    "actionRulesDiscovery = ActionRulesDiscovery()\n",
    "actionRulesDiscovery.load_pandas(df)\n",
    "actionRulesDiscovery.fit(stable_attributes=[\"Department\", \"EducationField\", \"Satisfaction\"],\n",
    "                         flexible_attributes=[\"BusinessTravel\", \"Salary\"],\n",
    "                         consequent=\"Attrition\",\n",
    "                         conf=40,\n",
    "                         supp=3,\n",
    "                         desired_classes=[\"No\"],\n",
    "                         utility_source=utility_source,\n",
    "                         min_util_dif=100,\n",
    "                         sort_by_util_dif=True\n",
    "                         )"
   ]
  },
  {
   "cell_type": "code",
   "execution_count": 20,
   "id": "24332eb6",
   "metadata": {},
   "outputs": [
    {
     "data": {
      "text/plain": [
       "[\"If attribute 'Satisfaction' is 'low', attribute 'Salary' value 'low' is changed to 'medium', then 'Attrition' value 'Yes' is changed to 'No' with support: 0.03, confidence: 0.6000000000000001 and uplift: 0.022. Change in utility caused by action is 250.0.\",\n",
       " \"If attribute 'Department' is 'sales', attribute 'Salary' value 'low' is changed to 'medium', then 'Attrition' value 'Yes' is changed to 'No' with support: 0.04, confidence: 0.48484848484848486 and uplift: 0.023636363636363636. Change in utility caused by action is 250.0.\",\n",
       " \"If attribute 'Satisfaction' is 'low', attribute 'Salary' value 'low' is changed to 'high', then 'Attrition' value 'Yes' is changed to 'No' with support: 0.03, confidence: 0.6428571428571428 and uplift: 0.024285714285714285. Change in utility caused by action is 150.0.\",\n",
       " \"If attribute 'Department' is 'sales', attribute 'Salary' value 'low' is changed to 'high', then 'Attrition' value 'Yes' is changed to 'No' with support: 0.04, confidence: 0.6666666666666666 and uplift: 0.04. Change in utility caused by action is 150.0.\"]"
      ]
     },
     "execution_count": 20,
     "metadata": {},
     "output_type": "execute_result"
    }
   ],
   "source": [
    "actionRulesDiscovery.get_pretty_action_rules()"
   ]
  },
  {
   "cell_type": "code",
   "execution_count": null,
   "id": "2193bf6d",
   "metadata": {},
   "outputs": [],
   "source": []
  }
 ],
 "metadata": {
  "kernelspec": {
   "display_name": "Python 3 (ipykernel)",
   "language": "python",
   "name": "python3"
  },
  "language_info": {
   "codemirror_mode": {
    "name": "ipython",
    "version": 3
   },
   "file_extension": ".py",
   "mimetype": "text/x-python",
   "name": "python",
   "nbconvert_exporter": "python",
   "pygments_lexer": "ipython3",
   "version": "3.8.12"
  }
 },
 "nbformat": 4,
 "nbformat_minor": 5
}
