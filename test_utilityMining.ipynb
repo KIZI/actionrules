{
 "cells": [
  {
   "cell_type": "code",
   "execution_count": 1,
   "id": "525833c4",
   "metadata": {},
   "outputs": [],
   "source": [
    "import pandas as pd\n",
    "from actionrules.actionRulesDiscovery import ActionRulesDiscovery"
   ]
  },
  {
   "cell_type": "code",
   "execution_count": 2,
   "id": "2ff43c46",
   "metadata": {},
   "outputs": [
    {
     "data": {
      "text/html": [
       "<div>\n",
       "<style scoped>\n",
       "    .dataframe tbody tr th:only-of-type {\n",
       "        vertical-align: middle;\n",
       "    }\n",
       "\n",
       "    .dataframe tbody tr th {\n",
       "        vertical-align: top;\n",
       "    }\n",
       "\n",
       "    .dataframe thead th {\n",
       "        text-align: right;\n",
       "    }\n",
       "</style>\n",
       "<table border=\"1\" class=\"dataframe\">\n",
       "  <thead>\n",
       "    <tr style=\"text-align: right;\">\n",
       "      <th></th>\n",
       "      <th>ID</th>\n",
       "      <th>Age</th>\n",
       "      <th>Embarked</th>\n",
       "      <th>Fare</th>\n",
       "      <th>Pclass</th>\n",
       "      <th>Sex</th>\n",
       "      <th>Survived</th>\n",
       "    </tr>\n",
       "  </thead>\n",
       "  <tbody>\n",
       "    <tr>\n",
       "      <th>0</th>\n",
       "      <td>1</td>\n",
       "      <td>&lt;16.13336;32.10002)</td>\n",
       "      <td>S</td>\n",
       "      <td>very high</td>\n",
       "      <td>1.0</td>\n",
       "      <td>female</td>\n",
       "      <td>1.0</td>\n",
       "    </tr>\n",
       "    <tr>\n",
       "      <th>1</th>\n",
       "      <td>2</td>\n",
       "      <td>&lt;0.1667;16.13336)</td>\n",
       "      <td>S</td>\n",
       "      <td>very high</td>\n",
       "      <td>1.0</td>\n",
       "      <td>male</td>\n",
       "      <td>1.0</td>\n",
       "    </tr>\n",
       "    <tr>\n",
       "      <th>2</th>\n",
       "      <td>3</td>\n",
       "      <td>&lt;0.1667;16.13336)</td>\n",
       "      <td>S</td>\n",
       "      <td>very high</td>\n",
       "      <td>1.0</td>\n",
       "      <td>female</td>\n",
       "      <td>0.0</td>\n",
       "    </tr>\n",
       "    <tr>\n",
       "      <th>3</th>\n",
       "      <td>4</td>\n",
       "      <td>&lt;16.13336;32.10002)</td>\n",
       "      <td>S</td>\n",
       "      <td>very high</td>\n",
       "      <td>1.0</td>\n",
       "      <td>male</td>\n",
       "      <td>0.0</td>\n",
       "    </tr>\n",
       "    <tr>\n",
       "      <th>4</th>\n",
       "      <td>5</td>\n",
       "      <td>&lt;16.13336;32.10002)</td>\n",
       "      <td>S</td>\n",
       "      <td>very high</td>\n",
       "      <td>1.0</td>\n",
       "      <td>female</td>\n",
       "      <td>0.0</td>\n",
       "    </tr>\n",
       "  </tbody>\n",
       "</table>\n",
       "</div>"
      ],
      "text/plain": [
       "   ID                  Age Embarked       Fare  Pclass     Sex  Survived\n",
       "0   1  <16.13336;32.10002)        S  very high     1.0  female       1.0\n",
       "1   2    <0.1667;16.13336)        S  very high     1.0    male       1.0\n",
       "2   3    <0.1667;16.13336)        S  very high     1.0  female       0.0\n",
       "3   4  <16.13336;32.10002)        S  very high     1.0    male       0.0\n",
       "4   5  <16.13336;32.10002)        S  very high     1.0  female       0.0"
      ]
     },
     "execution_count": 2,
     "metadata": {},
     "output_type": "execute_result"
    }
   ],
   "source": [
    "dataFrame = pd.read_csv(\"notebooks/data/titanic.csv\", sep=\";\")\n",
    "dataFrame.head()"
   ]
  },
  {
   "cell_type": "code",
   "execution_count": 3,
   "id": "a1342014",
   "metadata": {},
   "outputs": [
    {
     "data": {
      "text/html": [
       "<div>\n",
       "<style scoped>\n",
       "    .dataframe tbody tr th:only-of-type {\n",
       "        vertical-align: middle;\n",
       "    }\n",
       "\n",
       "    .dataframe tbody tr th {\n",
       "        vertical-align: top;\n",
       "    }\n",
       "\n",
       "    .dataframe thead th {\n",
       "        text-align: right;\n",
       "    }\n",
       "</style>\n",
       "<table border=\"1\" class=\"dataframe\">\n",
       "  <thead>\n",
       "    <tr style=\"text-align: right;\">\n",
       "      <th></th>\n",
       "      <th>1</th>\n",
       "    </tr>\n",
       "    <tr>\n",
       "      <th>0</th>\n",
       "      <th></th>\n",
       "    </tr>\n",
       "  </thead>\n",
       "  <tbody>\n",
       "    <tr>\n",
       "      <th>Age_&lt;0.1667;16.13336)</th>\n",
       "      <td>0</td>\n",
       "    </tr>\n",
       "    <tr>\n",
       "      <th>Age_&lt;16.13336;32.10002)</th>\n",
       "      <td>0</td>\n",
       "    </tr>\n",
       "    <tr>\n",
       "      <th>Age_&lt;32.10002;48.06668)</th>\n",
       "      <td>0</td>\n",
       "    </tr>\n",
       "    <tr>\n",
       "      <th>Age_&lt;48.06668;64.03334)</th>\n",
       "      <td>0</td>\n",
       "    </tr>\n",
       "    <tr>\n",
       "      <th>Age_&lt;64.03334;80&gt;</th>\n",
       "      <td>0</td>\n",
       "    </tr>\n",
       "  </tbody>\n",
       "</table>\n",
       "</div>"
      ],
      "text/plain": [
       "                         1\n",
       "0                         \n",
       "Age_<0.1667;16.13336)    0\n",
       "Age_<16.13336;32.10002)  0\n",
       "Age_<32.10002;48.06668)  0\n",
       "Age_<48.06668;64.03334)  0\n",
       "Age_<64.03334;80>        0"
      ]
     },
     "execution_count": 3,
     "metadata": {},
     "output_type": "execute_result"
    }
   ],
   "source": [
    "utility = pd.read_csv(\"utility_table.csv\", sep=\",\", header=None, index_col=0)\n",
    "utility.head()"
   ]
  },
  {
   "cell_type": "code",
   "execution_count": 4,
   "id": "d218a3d4",
   "metadata": {},
   "outputs": [],
   "source": [
    "actionRulesDiscovery = ActionRulesDiscovery()\n",
    "actionRulesDiscovery.load_pandas(dataFrame)\n",
    "actionRulesDiscovery.fit(stable_attributes=[\"Age\", \"Sex\"],\n",
    "                         flexible_attributes=[\"Embarked\", \"Fare\", \"Pclass\"],\n",
    "                         consequent=\"Survived\",\n",
    "                         conf=55,\n",
    "                         supp=3,\n",
    "                         desired_classes=[\"1.0\"],\n",
    "                         min_util_dif=20,\n",
    "                         utility_source=utility,\n",
    "                         sort_by_util_dif = True\n",
    "                         )"
   ]
  },
  {
   "cell_type": "code",
   "execution_count": 5,
   "id": "07f2bf52",
   "metadata": {
    "pycharm": {
     "name": "#%%\n"
    }
   },
   "outputs": [
    {
     "data": {
      "text/plain": [
       "[\"If attribute 'Age' is '<16.13336;32.10002)', attribute 'Pclass' value '3.0' is changed to '1.0', then 'Survived' value '0.0' is changed to '1.0' with support: 0.04732824427480916, confidence: 0.5261127825349071 and uplift: 0.10257085197859087. Change in utility caused by action is 30.0.\",\n",
       " \"If attribute 'Age' is '<16.13336;32.10002)', attribute 'Pclass' value '2.0' is changed to '1.0', then 'Survived' value '0.0' is changed to '1.0' with support: 0.04732824427480916, confidence: 0.42040850078557845 and uplift: 0.032104939896463985. Change in utility caused by action is 20.0.\",\n",
       " \"If attribute 'Age' is '<16.13336;32.10002)', attribute 'Pclass' value '2.0' is changed to '1.0', attribute 'Fare' value 'avg' is changed to 'very high', then 'Survived' value '0.0' is changed to '1.0' with support: 0.03969465648854962, confidence: 0.46254681647940077 and uplift: 0.02463952502120441. Change in utility caused by action is 20.0.\",\n",
       " \"If attribute 'Age' is '<16.13336;32.10002)', attribute 'Pclass' value '3.0' is changed to '1.0', attribute 'Fare' value 'very low' is changed to 'very high', then 'Survived' value '0.0' is changed to '1.0' with support: 0.03969465648854962, confidence: 0.49948078920041533 and uplift: 0.03379983036471586. Change in utility caused by action is 30.0.\",\n",
       " \"If attribute 'Age' is '<16.13336;32.10002)', attribute 'Pclass' value '3.0' is changed to '1.0', attribute 'Fare' value 'lower' is changed to 'very high', then 'Survived' value '0.0' is changed to '1.0' with support: 0.03969465648854962, confidence: 0.582089552238806 and uplift: 0.054028837998303644. Change in utility caused by action is 30.0.\",\n",
       " \"If attribute 'Age' is '<32.10002;48.06668)', attribute 'Pclass' value '3.0' is changed to '1.0', then 'Survived' value '0.0' is changed to '1.0' with support: 0.05114503816793893, confidence: 0.5283294392523364 and uplift: 0.03443675536848112. Change in utility caused by action is 30.0.\",\n",
       " \"If attribute 'Age' is '<32.10002;48.06668)', attribute 'Pclass' value '2.0' is changed to '1.0', then 'Survived' value '0.0' is changed to '1.0' with support: 0.031297709923664124, confidence: 0.3889832908524497 and uplift: 0.012463437254762073. Change in utility caused by action is 20.0.\",\n",
       " \"If attribute 'Sex' is 'female', attribute 'Pclass' value '3.0' is changed to '1.0', attribute 'Embarked' value 's' is changed to 'c', then 'Survived' value '0.0' is changed to '1.0' with support: 0.05267175572519084, confidence: 0.5876187356698329 and uplift: 0.05676808945274702. Change in utility caused by action is 20.0.\"]"
      ]
     },
     "execution_count": 5,
     "metadata": {},
     "output_type": "execute_result"
    }
   ],
   "source": [
    "actionRulesDiscovery.get_pretty_action_rules()"
   ]
  }
 ],
 "metadata": {
  "kernelspec": {
   "display_name": "Python 3 (ipykernel)",
   "language": "python",
   "name": "python3"
  },
  "language_info": {
   "codemirror_mode": {
    "name": "ipython",
    "version": 3
   },
   "file_extension": ".py",
   "mimetype": "text/x-python",
   "name": "python",
   "nbconvert_exporter": "python",
   "pygments_lexer": "ipython3",
   "version": "3.8.12"
  }
 },
 "nbformat": 4,
 "nbformat_minor": 5
}
