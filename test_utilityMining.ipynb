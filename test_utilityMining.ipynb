{
 "cells": [
  {
   "cell_type": "code",
   "execution_count": 1,
   "id": "525833c4",
   "metadata": {},
   "outputs": [],
   "source": [
    "import pandas as pd\n",
    "from actionrules.actionRulesDiscovery import ActionRulesDiscovery"
   ]
  },
  {
   "cell_type": "code",
   "execution_count": 3,
   "id": "e77ef5d1",
   "metadata": {},
   "outputs": [
    {
     "name": "stderr",
     "output_type": "stream",
     "text": [
      "d:\\work\\kacka\\actionrules\\actionrules\\venv\\lib\\site-packages\\ipykernel_launcher.py:38: UserWarning: Boolean Series key will be reindexed to match DataFrame index.\n"
     ]
    },
    {
     "ename": "NameError",
     "evalue": "name 'calculate_utility2' is not defined",
     "output_type": "error",
     "traceback": [
      "\u001B[1;31m---------------------------------------------------------------------------\u001B[0m",
      "\u001B[1;31mNameError\u001B[0m                                 Traceback (most recent call last)",
      "\u001B[1;32m~\\AppData\\Local\\Temp\\ipykernel_14440\\490630883.py\u001B[0m in \u001B[0;36m<module>\u001B[1;34m\u001B[0m\n\u001B[0;32m     46\u001B[0m                          \u001B[0msupp\u001B[0m\u001B[1;33m=\u001B[0m\u001B[1;36m3\u001B[0m\u001B[1;33m,\u001B[0m\u001B[1;33m\u001B[0m\u001B[1;33m\u001B[0m\u001B[0m\n\u001B[0;32m     47\u001B[0m                          \u001B[0mdesired_classes\u001B[0m\u001B[1;33m=\u001B[0m\u001B[1;33m[\u001B[0m\u001B[1;34m\"1.0\"\u001B[0m\u001B[1;33m]\u001B[0m\u001B[1;33m,\u001B[0m\u001B[1;33m\u001B[0m\u001B[1;33m\u001B[0m\u001B[0m\n\u001B[1;32m---> 48\u001B[1;33m                          \u001B[0mutility_calc\u001B[0m\u001B[1;33m=\u001B[0m\u001B[0mcalculate_utility2\u001B[0m\u001B[1;33m,\u001B[0m\u001B[1;33m\u001B[0m\u001B[1;33m\u001B[0m\u001B[0m\n\u001B[0m\u001B[0;32m     49\u001B[0m                          \u001B[0mmin_util\u001B[0m\u001B[1;33m=\u001B[0m\u001B[1;36m20\u001B[0m\u001B[1;33m\u001B[0m\u001B[1;33m\u001B[0m\u001B[0m\n\u001B[0;32m     50\u001B[0m                          )\n",
      "\u001B[1;31mNameError\u001B[0m: name 'calculate_utility2' is not defined"
     ]
    }
   ],
   "source": [
    "def calculate_utility(**kwargs):\n",
    "    utility = 0\n",
    "    for key, value in kwargs.items():\n",
    "        if key == 'Age':\n",
    "           pass\n",
    "        elif key == 'Sex':\n",
    "            if value == 'male':\n",
    "                utility += 10\n",
    "            else:\n",
    "                utility += 20\n",
    "        elif key == 'Embarked':\n",
    "            if value == 'S':\n",
    "                utility += 20\n",
    "            elif value == 'C':\n",
    "                utility += 30\n",
    "            elif value == 'Q':\n",
    "                utility += 40\n",
    "            else:\n",
    "                pass\n",
    "        elif key == 'Fare':\n",
    "            pass\n",
    "        elif key == 'Pclass':\n",
    "            if value == '1':\n",
    "                utility += 30\n",
    "            elif value == '2':\n",
    "                utility += 20\n",
    "            elif value == '3':\n",
    "                utility += 10\n",
    "            else:\n",
    "                pass\n",
    "        else:\n",
    "            raise Exception('Unknown attribute')\n",
    "    return utility\n",
    "\n",
    "dataFrame = pd.read_csv(\"notebooks/data/titanic.csv\", sep=\";\")\n",
    "dataFrame.head()\n",
    "\n",
    "dataFrame[dataFrame.Sex == \"female\"][dataFrame.Embarked == \"S\"][dataFrame.Survived == 0.0]\n",
    "\n",
    "actionRulesDiscovery = ActionRulesDiscovery()\n",
    "actionRulesDiscovery.load_pandas(dataFrame)\n",
    "actionRulesDiscovery.fit(stable_attributes=[\"Age\", \"Sex\"],\n",
    "                         flexible_attributes=[\"Embarked\", \"Fare\", \"Pclass\"],\n",
    "                         consequent=\"Survived\",\n",
    "                         conf=55,\n",
    "                         supp=3,\n",
    "                         desired_classes=[\"1.0\"],\n",
    "                         utility_calc=calculate_utility2,\n",
    "                         min_util=20\n",
    "                         )\n",
    "\n",
    "print(len(actionRulesDiscovery.get_action_rules_representation()))\n",
    "\n",
    "for rule in actionRulesDiscovery.get_action_rules_representation():\n",
    "    print(rule)\n",
    "    print(\" \")"
   ]
  },
  {
   "cell_type": "code",
   "execution_count": 2,
   "id": "2ff43c46",
   "metadata": {},
   "outputs": [
    {
     "data": {
      "text/plain": "   ID                  Age Embarked       Fare  Pclass     Sex  Survived\n0   1  <16.13336;32.10002)        S  very high     1.0  female       1.0\n1   2    <0.1667;16.13336)        S  very high     1.0    male       1.0\n2   3    <0.1667;16.13336)        S  very high     1.0  female       0.0\n3   4  <16.13336;32.10002)        S  very high     1.0    male       0.0\n4   5  <16.13336;32.10002)        S  very high     1.0  female       0.0",
      "text/html": "<div>\n<style scoped>\n    .dataframe tbody tr th:only-of-type {\n        vertical-align: middle;\n    }\n\n    .dataframe tbody tr th {\n        vertical-align: top;\n    }\n\n    .dataframe thead th {\n        text-align: right;\n    }\n</style>\n<table border=\"1\" class=\"dataframe\">\n  <thead>\n    <tr style=\"text-align: right;\">\n      <th></th>\n      <th>ID</th>\n      <th>Age</th>\n      <th>Embarked</th>\n      <th>Fare</th>\n      <th>Pclass</th>\n      <th>Sex</th>\n      <th>Survived</th>\n    </tr>\n  </thead>\n  <tbody>\n    <tr>\n      <th>0</th>\n      <td>1</td>\n      <td>&lt;16.13336;32.10002)</td>\n      <td>S</td>\n      <td>very high</td>\n      <td>1.0</td>\n      <td>female</td>\n      <td>1.0</td>\n    </tr>\n    <tr>\n      <th>1</th>\n      <td>2</td>\n      <td>&lt;0.1667;16.13336)</td>\n      <td>S</td>\n      <td>very high</td>\n      <td>1.0</td>\n      <td>male</td>\n      <td>1.0</td>\n    </tr>\n    <tr>\n      <th>2</th>\n      <td>3</td>\n      <td>&lt;0.1667;16.13336)</td>\n      <td>S</td>\n      <td>very high</td>\n      <td>1.0</td>\n      <td>female</td>\n      <td>0.0</td>\n    </tr>\n    <tr>\n      <th>3</th>\n      <td>4</td>\n      <td>&lt;16.13336;32.10002)</td>\n      <td>S</td>\n      <td>very high</td>\n      <td>1.0</td>\n      <td>male</td>\n      <td>0.0</td>\n    </tr>\n    <tr>\n      <th>4</th>\n      <td>5</td>\n      <td>&lt;16.13336;32.10002)</td>\n      <td>S</td>\n      <td>very high</td>\n      <td>1.0</td>\n      <td>female</td>\n      <td>0.0</td>\n    </tr>\n  </tbody>\n</table>\n</div>"
     },
     "execution_count": 2,
     "metadata": {},
     "output_type": "execute_result"
    }
   ],
   "source": [
    "dataFrame = pd.read_csv(\"notebooks/data/titanic.csv\", sep=\";\")\n",
    "dataFrame.head()"
   ]
  },
  {
   "cell_type": "code",
   "execution_count": 3,
   "id": "a1342014",
   "metadata": {},
   "outputs": [
    {
     "data": {
      "text/plain": "                         1\n0                         \nAge_<0.1667;16.13336)    0\nAge_<16.13336;32.10002)  0\nAge_<32.10002;48.06668)  0\nAge_<48.06668;64.03334)  0\nAge_<64.03334;80>        0",
      "text/html": "<div>\n<style scoped>\n    .dataframe tbody tr th:only-of-type {\n        vertical-align: middle;\n    }\n\n    .dataframe tbody tr th {\n        vertical-align: top;\n    }\n\n    .dataframe thead th {\n        text-align: right;\n    }\n</style>\n<table border=\"1\" class=\"dataframe\">\n  <thead>\n    <tr style=\"text-align: right;\">\n      <th></th>\n      <th>1</th>\n    </tr>\n    <tr>\n      <th>0</th>\n      <th></th>\n    </tr>\n  </thead>\n  <tbody>\n    <tr>\n      <th>Age_&lt;0.1667;16.13336)</th>\n      <td>0</td>\n    </tr>\n    <tr>\n      <th>Age_&lt;16.13336;32.10002)</th>\n      <td>0</td>\n    </tr>\n    <tr>\n      <th>Age_&lt;32.10002;48.06668)</th>\n      <td>0</td>\n    </tr>\n    <tr>\n      <th>Age_&lt;48.06668;64.03334)</th>\n      <td>0</td>\n    </tr>\n    <tr>\n      <th>Age_&lt;64.03334;80&gt;</th>\n      <td>0</td>\n    </tr>\n  </tbody>\n</table>\n</div>"
     },
     "execution_count": 3,
     "metadata": {},
     "output_type": "execute_result"
    }
   ],
   "source": [
    "utility = pd.read_csv(\"utility_table.csv\", sep=\",\", header=None, index_col=0)\n",
    "utility.head()"
   ]
  },
  {
   "cell_type": "code",
   "execution_count": 5,
   "id": "d218a3d4",
   "metadata": {},
   "outputs": [],
   "source": [
    "actionRulesDiscovery = ActionRulesDiscovery()\n",
    "actionRulesDiscovery.load_pandas(dataFrame)\n",
    "actionRulesDiscovery.fit(stable_attributes=[\"Age\", \"Sex\"],\n",
    "                         flexible_attributes=[\"Embarked\", \"Fare\", \"Pclass\"],\n",
    "                         consequent=\"Survived\",\n",
    "                         conf=55,\n",
    "                         supp=3,\n",
    "                         desired_classes=[\"1.0\"],\n",
    "                         min_util=50,\n",
    "                         utility_source=utility\n",
    "                         )"
   ]
  },
  {
   "cell_type": "code",
   "execution_count": 6,
   "outputs": [
    {
     "data": {
      "text/plain": "1"
     },
     "execution_count": 6,
     "metadata": {},
     "output_type": "execute_result"
    }
   ],
   "source": [
    "len(actionRulesDiscovery.get_pretty_action_rules())"
   ],
   "metadata": {
    "collapsed": false,
    "pycharm": {
     "name": "#%%\n"
    }
   }
  },
  {
   "cell_type": "code",
   "execution_count": null,
   "outputs": [],
   "source": [],
   "metadata": {
    "collapsed": false,
    "pycharm": {
     "name": "#%%\n"
    }
   }
  }
 ],
 "metadata": {
  "kernelspec": {
   "display_name": "Python 3 (ipykernel)",
   "language": "python",
   "name": "python3"
  },
  "language_info": {
   "codemirror_mode": {
    "name": "ipython",
    "version": 3
   },
   "file_extension": ".py",
   "mimetype": "text/x-python",
   "name": "python",
   "nbconvert_exporter": "python",
   "pygments_lexer": "ipython3",
   "version": "3.8.12"
  }
 },
 "nbformat": 4,
 "nbformat_minor": 5
}