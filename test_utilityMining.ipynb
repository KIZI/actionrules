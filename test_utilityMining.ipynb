{
 "cells": [
  {
   "cell_type": "code",
   "execution_count": 1,
   "id": "525833c4",
   "metadata": {},
   "outputs": [],
   "source": [
    "import pandas as pd\n",
    "from actionrules.actionRulesDiscovery import ActionRulesDiscovery"
   ]
  },
  {
   "cell_type": "code",
   "execution_count": 2,
   "id": "2ff43c46",
   "metadata": {},
   "outputs": [
    {
     "data": {
      "text/html": [
       "<div>\n",
       "<style scoped>\n",
       "    .dataframe tbody tr th:only-of-type {\n",
       "        vertical-align: middle;\n",
       "    }\n",
       "\n",
       "    .dataframe tbody tr th {\n",
       "        vertical-align: top;\n",
       "    }\n",
       "\n",
       "    .dataframe thead th {\n",
       "        text-align: right;\n",
       "    }\n",
       "</style>\n",
       "<table border=\"1\" class=\"dataframe\">\n",
       "  <thead>\n",
       "    <tr style=\"text-align: right;\">\n",
       "      <th></th>\n",
       "      <th>ID</th>\n",
       "      <th>Age</th>\n",
       "      <th>Embarked</th>\n",
       "      <th>Fare</th>\n",
       "      <th>Pclass</th>\n",
       "      <th>Sex</th>\n",
       "      <th>Survived</th>\n",
       "    </tr>\n",
       "  </thead>\n",
       "  <tbody>\n",
       "    <tr>\n",
       "      <th>0</th>\n",
       "      <td>1</td>\n",
       "      <td>&lt;16.13336;32.10002)</td>\n",
       "      <td>S</td>\n",
       "      <td>very high</td>\n",
       "      <td>1.0</td>\n",
       "      <td>female</td>\n",
       "      <td>1.0</td>\n",
       "    </tr>\n",
       "    <tr>\n",
       "      <th>1</th>\n",
       "      <td>2</td>\n",
       "      <td>&lt;0.1667;16.13336)</td>\n",
       "      <td>S</td>\n",
       "      <td>very high</td>\n",
       "      <td>1.0</td>\n",
       "      <td>male</td>\n",
       "      <td>1.0</td>\n",
       "    </tr>\n",
       "    <tr>\n",
       "      <th>2</th>\n",
       "      <td>3</td>\n",
       "      <td>&lt;0.1667;16.13336)</td>\n",
       "      <td>S</td>\n",
       "      <td>very high</td>\n",
       "      <td>1.0</td>\n",
       "      <td>female</td>\n",
       "      <td>0.0</td>\n",
       "    </tr>\n",
       "    <tr>\n",
       "      <th>3</th>\n",
       "      <td>4</td>\n",
       "      <td>&lt;16.13336;32.10002)</td>\n",
       "      <td>S</td>\n",
       "      <td>very high</td>\n",
       "      <td>1.0</td>\n",
       "      <td>male</td>\n",
       "      <td>0.0</td>\n",
       "    </tr>\n",
       "    <tr>\n",
       "      <th>4</th>\n",
       "      <td>5</td>\n",
       "      <td>&lt;16.13336;32.10002)</td>\n",
       "      <td>S</td>\n",
       "      <td>very high</td>\n",
       "      <td>1.0</td>\n",
       "      <td>female</td>\n",
       "      <td>0.0</td>\n",
       "    </tr>\n",
       "  </tbody>\n",
       "</table>\n",
       "</div>"
      ],
      "text/plain": [
       "   ID                  Age Embarked       Fare  Pclass     Sex  Survived\n",
       "0   1  <16.13336;32.10002)        S  very high     1.0  female       1.0\n",
       "1   2    <0.1667;16.13336)        S  very high     1.0    male       1.0\n",
       "2   3    <0.1667;16.13336)        S  very high     1.0  female       0.0\n",
       "3   4  <16.13336;32.10002)        S  very high     1.0    male       0.0\n",
       "4   5  <16.13336;32.10002)        S  very high     1.0  female       0.0"
      ]
     },
     "execution_count": 2,
     "metadata": {},
     "output_type": "execute_result"
    }
   ],
   "source": [
    "dataFrame = pd.read_csv(\"notebooks/data/titanic.csv\", sep=\";\")\n",
    "dataFrame.head()"
   ]
  },
  {
   "cell_type": "code",
   "execution_count": 3,
   "id": "a1342014",
   "metadata": {},
   "outputs": [
    {
     "data": {
      "text/html": [
       "<div>\n",
       "<style scoped>\n",
       "    .dataframe tbody tr th:only-of-type {\n",
       "        vertical-align: middle;\n",
       "    }\n",
       "\n",
       "    .dataframe tbody tr th {\n",
       "        vertical-align: top;\n",
       "    }\n",
       "\n",
       "    .dataframe thead th {\n",
       "        text-align: right;\n",
       "    }\n",
       "</style>\n",
       "<table border=\"1\" class=\"dataframe\">\n",
       "  <thead>\n",
       "    <tr style=\"text-align: right;\">\n",
       "      <th></th>\n",
       "      <th>1</th>\n",
       "    </tr>\n",
       "    <tr>\n",
       "      <th>0</th>\n",
       "      <th></th>\n",
       "    </tr>\n",
       "  </thead>\n",
       "  <tbody>\n",
       "    <tr>\n",
       "      <th>Age_&lt;0.1667;16.13336)</th>\n",
       "      <td>0</td>\n",
       "    </tr>\n",
       "    <tr>\n",
       "      <th>Age_&lt;16.13336;32.10002)</th>\n",
       "      <td>0</td>\n",
       "    </tr>\n",
       "    <tr>\n",
       "      <th>Age_&lt;32.10002;48.06668)</th>\n",
       "      <td>0</td>\n",
       "    </tr>\n",
       "    <tr>\n",
       "      <th>Age_&lt;48.06668;64.03334)</th>\n",
       "      <td>0</td>\n",
       "    </tr>\n",
       "    <tr>\n",
       "      <th>Age_&lt;64.03334;80&gt;</th>\n",
       "      <td>0</td>\n",
       "    </tr>\n",
       "  </tbody>\n",
       "</table>\n",
       "</div>"
      ],
      "text/plain": [
       "                         1\n",
       "0                         \n",
       "Age_<0.1667;16.13336)    0\n",
       "Age_<16.13336;32.10002)  0\n",
       "Age_<32.10002;48.06668)  0\n",
       "Age_<48.06668;64.03334)  0\n",
       "Age_<64.03334;80>        0"
      ]
     },
     "execution_count": 3,
     "metadata": {},
     "output_type": "execute_result"
    }
   ],
   "source": [
    "utility = pd.read_csv(\"utility_table.csv\", sep=\",\", header=None, index_col=0)\n",
    "utility.head()"
   ]
  },
  {
   "cell_type": "code",
   "execution_count": 4,
   "id": "d218a3d4",
   "metadata": {},
   "outputs": [],
   "source": [
    "actionRulesDiscovery = ActionRulesDiscovery()\n",
    "actionRulesDiscovery.load_pandas(dataFrame)\n",
    "actionRulesDiscovery.fit(stable_attributes=[\"Age\", \"Sex\"],\n",
    "                         flexible_attributes=[\"Embarked\", \"Fare\", \"Pclass\"],\n",
    "                         consequent=\"Survived\",\n",
    "                         conf=55,\n",
    "                         supp=3,\n",
    "                         desired_classes=[\"1.0\"],\n",
    "                         min_util_dif=20,\n",
    "                         utility_source=utility\n",
    "                         )"
   ]
  },
  {
   "cell_type": "code",
   "execution_count": 5,
   "id": "07f2bf52",
   "metadata": {
    "pycharm": {
     "name": "#%%\n"
    }
   },
   "outputs": [
    {
     "data": {
      "text/plain": [
       "4"
      ]
     },
     "execution_count": 5,
     "metadata": {},
     "output_type": "execute_result"
    }
   ],
   "source": [
    "len(actionRulesDiscovery.get_pretty_action_rules())"
   ]
  },
  {
   "cell_type": "code",
   "execution_count": null,
   "id": "683a03c5",
   "metadata": {},
   "outputs": [],
   "source": []
  }
 ],
 "metadata": {
  "kernelspec": {
   "display_name": "Python 3 (ipykernel)",
   "language": "python",
   "name": "python3"
  },
  "language_info": {
   "codemirror_mode": {
    "name": "ipython",
    "version": 3
   },
   "file_extension": ".py",
   "mimetype": "text/x-python",
   "name": "python",
   "nbconvert_exporter": "python",
   "pygments_lexer": "ipython3",
   "version": "3.8.12"
  }
 },
 "nbformat": 4,
 "nbformat_minor": 5
}
