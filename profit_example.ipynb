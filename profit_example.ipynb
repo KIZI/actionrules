{
 "cells": [
  {
   "cell_type": "code",
   "execution_count": 1,
   "id": "5e351c71",
   "metadata": {},
   "outputs": [],
   "source": [
    "import pandas as pd\n",
    "from actionrules.actionRulesDiscovery import ActionRulesDiscovery"
   ]
  },
  {
   "cell_type": "code",
   "execution_count": 81,
   "id": "41d01687",
   "metadata": {},
   "outputs": [
    {
     "data": {
      "text/html": [
       "<div>\n",
       "<style scoped>\n",
       "    .dataframe tbody tr th:only-of-type {\n",
       "        vertical-align: middle;\n",
       "    }\n",
       "\n",
       "    .dataframe tbody tr th {\n",
       "        vertical-align: top;\n",
       "    }\n",
       "\n",
       "    .dataframe thead th {\n",
       "        text-align: right;\n",
       "    }\n",
       "</style>\n",
       "<table border=\"1\" class=\"dataframe\">\n",
       "  <thead>\n",
       "    <tr style=\"text-align: right;\">\n",
       "      <th></th>\n",
       "      <th>Position</th>\n",
       "      <th>Salary</th>\n",
       "      <th>Stayed</th>\n",
       "    </tr>\n",
       "    <tr>\n",
       "      <th>EmployeeID</th>\n",
       "      <th></th>\n",
       "      <th></th>\n",
       "      <th></th>\n",
       "    </tr>\n",
       "  </thead>\n",
       "  <tbody>\n",
       "    <tr>\n",
       "      <th>1</th>\n",
       "      <td>Developer</td>\n",
       "      <td>Medium</td>\n",
       "      <td>Yes</td>\n",
       "    </tr>\n",
       "    <tr>\n",
       "      <th>2</th>\n",
       "      <td>Developer</td>\n",
       "      <td>Medium</td>\n",
       "      <td>No</td>\n",
       "    </tr>\n",
       "    <tr>\n",
       "      <th>3</th>\n",
       "      <td>Developer</td>\n",
       "      <td>Medium</td>\n",
       "      <td>No</td>\n",
       "    </tr>\n",
       "    <tr>\n",
       "      <th>4</th>\n",
       "      <td>Developer</td>\n",
       "      <td>High</td>\n",
       "      <td>Yes</td>\n",
       "    </tr>\n",
       "    <tr>\n",
       "      <th>5</th>\n",
       "      <td>Developer</td>\n",
       "      <td>High</td>\n",
       "      <td>Yes</td>\n",
       "    </tr>\n",
       "    <tr>\n",
       "      <th>6</th>\n",
       "      <td>Developer</td>\n",
       "      <td>High</td>\n",
       "      <td>No</td>\n",
       "    </tr>\n",
       "  </tbody>\n",
       "</table>\n",
       "</div>"
      ],
      "text/plain": [
       "             Position  Salary Stayed\n",
       "EmployeeID                          \n",
       "1           Developer  Medium    Yes\n",
       "2           Developer  Medium     No\n",
       "3           Developer  Medium     No\n",
       "4           Developer    High    Yes\n",
       "5           Developer    High    Yes\n",
       "6           Developer    High     No"
      ]
     },
     "execution_count": 81,
     "metadata": {},
     "output_type": "execute_result"
    }
   ],
   "source": [
    "emp_data = {'EmployeeID' : [1, 2, 3, 4, 5, 6],\n",
    "        'Position' : ['Developer', 'Developer', 'Developer', 'Developer', 'Developer','Developer'],\n",
    "        'Salary' : ['Medium', 'Medium', 'Medium', 'High', 'High', 'High'],\n",
    "        'Stayed' : ['Yes', 'No', 'No', 'Yes', 'Yes', 'No']}\n",
    "data = pd.DataFrame(data=emp_data).set_index('EmployeeID')\n",
    "data"
   ]
  },
  {
   "cell_type": "code",
   "execution_count": 82,
   "id": "78b265c9",
   "metadata": {},
   "outputs": [
    {
     "data": {
      "text/html": [
       "<div>\n",
       "<style scoped>\n",
       "    .dataframe tbody tr th:only-of-type {\n",
       "        vertical-align: middle;\n",
       "    }\n",
       "\n",
       "    .dataframe tbody tr th {\n",
       "        vertical-align: top;\n",
       "    }\n",
       "\n",
       "    .dataframe thead th {\n",
       "        text-align: right;\n",
       "    }\n",
       "</style>\n",
       "<table border=\"1\" class=\"dataframe\">\n",
       "  <thead>\n",
       "    <tr style=\"text-align: right;\">\n",
       "      <th></th>\n",
       "      <th>1</th>\n",
       "    </tr>\n",
       "    <tr>\n",
       "      <th>0</th>\n",
       "      <th></th>\n",
       "    </tr>\n",
       "  </thead>\n",
       "  <tbody>\n",
       "    <tr>\n",
       "      <th>Salary_medium</th>\n",
       "      <td>500</td>\n",
       "    </tr>\n",
       "    <tr>\n",
       "      <th>Salary_high</th>\n",
       "      <td>1000</td>\n",
       "    </tr>\n",
       "    <tr>\n",
       "      <th>Stayed_yes</th>\n",
       "      <td>700</td>\n",
       "    </tr>\n",
       "    <tr>\n",
       "      <th>Stayed_no</th>\n",
       "      <td>0</td>\n",
       "    </tr>\n",
       "  </tbody>\n",
       "</table>\n",
       "</div>"
      ],
      "text/plain": [
       "                  1\n",
       "0                  \n",
       "Salary_medium   500\n",
       "Salary_high    1000\n",
       "Stayed_yes      700\n",
       "Stayed_no         0"
      ]
     },
     "execution_count": 82,
     "metadata": {},
     "output_type": "execute_result"
    }
   ],
   "source": [
    "util_data = {0 : ['Salary_medium', 'Salary_high', 'Stayed_yes', 'Stayed_no'], 1 : [500, 1000, 700, 0]}\n",
    "utility = pd.DataFrame(data=util_data).set_index(0)\n",
    "utility"
   ]
  },
  {
   "cell_type": "code",
   "execution_count": 79,
   "id": "d1cabc83",
   "metadata": {},
   "outputs": [],
   "source": [
    "actionRulesDiscovery = ActionRulesDiscovery()\n",
    "actionRulesDiscovery.load_pandas(data)\n",
    "actionRulesDiscovery.fit(stable_attributes=['Position'],\n",
    "                         flexible_attributes=['Salary'],\n",
    "                         consequent='Stayed',\n",
    "                         conf=40,\n",
    "                         supp=3,\n",
    "                         desired_classes=['Yes'],\n",
    "                         utility_source=utility,\n",
    "                         min_profit=-300\n",
    "                         )"
   ]
  },
  {
   "cell_type": "code",
   "execution_count": 80,
   "id": "b91a551b",
   "metadata": {},
   "outputs": [
    {
     "data": {
      "text/plain": [
       "[\"If attribute 'Position' is 'developer', attribute 'Salary' value 'medium' is changed to 'high', then 'Stayed' value 'No' is changed to 'Yes' with support: 0.3333333333333333, confidence: 0.4444444444444444 and uplift: 0.16666666666666663. Profit of the action is -266.66666666666674.\"]"
      ]
     },
     "execution_count": 80,
     "metadata": {},
     "output_type": "execute_result"
    }
   ],
   "source": [
    "actionRulesDiscovery.get_pretty_action_rules()"
   ]
  }
 ],
 "metadata": {
  "kernelspec": {
   "display_name": "Python 3 (ipykernel)",
   "language": "python",
   "name": "python3"
  },
  "language_info": {
   "codemirror_mode": {
    "name": "ipython",
    "version": 3
   },
   "file_extension": ".py",
   "mimetype": "text/x-python",
   "name": "python",
   "nbconvert_exporter": "python",
   "pygments_lexer": "ipython3",
   "version": "3.8.12"
  }
 },
 "nbformat": 4,
 "nbformat_minor": 5
}
